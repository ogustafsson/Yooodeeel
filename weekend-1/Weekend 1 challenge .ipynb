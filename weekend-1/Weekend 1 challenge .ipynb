{
 "cells": [
  {
   "cell_type": "code",
   "execution_count": 1,
   "metadata": {},
   "outputs": [],
   "source": [
    "import numpy as np \n",
    "import csv \n",
    "import pandas as pd\n",
    "from scipy.linalg import dft\n",
    "from scipy import fft\n",
    "import matplotlib.pyplot as plt \n",
    "import bitarray\n",
    "import pdb\n"
   ]
  },
  {
   "cell_type": "code",
   "execution_count": 2,
   "metadata": {},
   "outputs": [],
   "source": [
    "channelResponse = pd.read_csv('channel.csv', header = None)\n",
    "channelResponse = channelResponse.to_numpy()\n",
    "FILE_NAME = 'file9.csv'\n",
    "file = pd.read_csv(FILE_NAME, header = None)"
   ]
  },
  {
   "cell_type": "code",
   "execution_count": 8,
   "metadata": {},
   "outputs": [],
   "source": [
    "M = len(channelResponse) #FIR filter horizon \n",
    "N = 1024 # number of OFDM subcarriers\n",
    "L = 32 #length of cyclic prefix \n",
    "mu = 2 #bits per constellation symbol "
   ]
  },
  {
   "cell_type": "code",
   "execution_count": 4,
   "metadata": {},
   "outputs": [],
   "source": [
    "channelZeros = np.zeros(N-M)\n",
    "channelResponse = np.append(channelResponse, channelZeros)\n",
    "H_exact = fft(channelResponse, n = N)"
   ]
  },
  {
   "cell_type": "code",
   "execution_count": 13,
   "metadata": {},
   "outputs": [],
   "source": [
    "def demapping_symbol(symbol):\n",
    "    first_bit = 0 if symbol.imag >= 0 else 1\n",
    "    second_bit = 0 if symbol.real >= 0 else 1\n",
    "    return first_bit, second_bit\n",
    "\n",
    "def demapping(sequence):\n",
    "    output = []\n",
    "    for f in sequence:\n",
    "        first_bit, second_bit = demapping_symbol(f)\n",
    "        output.append(first_bit)\n",
    "        output.append(second_bit)\n",
    "    return output\n",
    "\n",
    "def split_signal(file, N, L):\n",
    "    return np.array_split(file, len(file)/1056)\n",
    "\n",
    "def disregard_cyclic_prefix(splitted_file, L):\n",
    "    return [list(w[L:][0]) for w in splitted_file]\n",
    "\n",
    "def apply_fft(splitted_file, N):\n",
    "    fft_blocks = [fft(block, N) for block in splitted_file]\n",
    "    return fft_blocks \n",
    "\n",
    "def equalize(fft_blocks, H):\n",
    "    equalized_fft_blocks = [np.divide(r, H) for r in fft_blocks]\n",
    "    return equalized_fft_blocks \n",
    "\n",
    "\n",
    "def disregard_freq_bins(equalized_fft_blocks):\n",
    "    return [d[1:512] for d in equalized_fft_blocks]\n",
    "\n",
    "def fft_file(file, H, N, L):\n",
    "    \"\"\"\n",
    "    returns fft of the file, before ML mapping, fft is in chunks of OFDM blocks\n",
    "    \"\"\"\n",
    "    split_signal_1056 = split_signal(file, N, L)\n",
    "    split_signal_1024 = disregard_cyclic_prefix(split_signal_1056, L)\n",
    "    fft_blocks = apply_fft(split_signal_1024, N)\n",
    "    equalized_fft_blocks = equalize(fft_blocks, H_exact)\n",
    "    return disregard_freq_bins(equalized_fft_blocks)\n",
    "\n",
    "def demap_fft(fft_signal):\n",
    "    bits = []\n",
    "    for d in fft_signal:\n",
    "        bits.extend(demapping(d))\n",
    "    return bits \n",
    "\n",
    "def bits_to_bytes(bits):\n",
    "    bits_string = \"\".join((str(s) for s in bits))\n",
    "    output_bytes = [bits_string[i : i + 8] for i in range(0, len(bits_string), 8)]\n",
    "    output_bytes = bytearray([int(i, 2) for i in output_bytes])\n",
    "    return output_bytes \n",
    "\n",
    "def file_to_decoded_bytes(file, H, N, L):\n",
    "    fft_signal_unmaped = fft_file(file, H, N, L)\n",
    "    fft_signal_demapped = demap_fft(fft_signal_unmaped)\n",
    "    bytes_output = bits_to_bytes(fft_signal_demapped)\n",
    "    return bytes_output"
   ]
  },
  {
   "cell_type": "code",
   "execution_count": 14,
   "metadata": {},
   "outputs": [
    {
     "name": "stdout",
     "output_type": "stream",
     "text": [
      "bytearray(b'files/9103751287.wav\\x0058584\\x00RIFF\\xd0\\xe4\\x00\\x00WAVEfmt \\x10\\x00\\x00\\x00\\x01\\x00\\x01')\n"
     ]
    }
   ],
   "source": [
    "output_bytes = file_to_decoded_bytes(file, H_exact, N, L)\n",
    "print(output_bytes[:50])"
   ]
  },
  {
   "cell_type": "code",
   "execution_count": 16,
   "metadata": {},
   "outputs": [],
   "source": [
    "del output_bytes[:len('files/9103751287.wav\\x0058584\\x00')]\n",
    "if 'tiff' in 'files/9103751287.wav\\x0058584\\x00' or True:\n",
    "    with open(f\"output_{FILE_NAME[:-4]}.wav\", \"w+b\") as f:\n",
    "        f.write(output_bytes)"
   ]
  },
  {
   "cell_type": "code",
   "execution_count": null,
   "metadata": {},
   "outputs": [],
   "source": []
  },
  {
   "cell_type": "code",
   "execution_count": null,
   "metadata": {},
   "outputs": [],
   "source": []
  }
 ],
 "metadata": {
  "kernelspec": {
   "display_name": "Python 3",
   "language": "python",
   "name": "python3"
  },
  "language_info": {
   "codemirror_mode": {
    "name": "ipython",
    "version": 3
   },
   "file_extension": ".py",
   "mimetype": "text/x-python",
   "name": "python",
   "nbconvert_exporter": "python",
   "pygments_lexer": "ipython3",
   "version": "3.6.6"
  }
 },
 "nbformat": 4,
 "nbformat_minor": 2
}
