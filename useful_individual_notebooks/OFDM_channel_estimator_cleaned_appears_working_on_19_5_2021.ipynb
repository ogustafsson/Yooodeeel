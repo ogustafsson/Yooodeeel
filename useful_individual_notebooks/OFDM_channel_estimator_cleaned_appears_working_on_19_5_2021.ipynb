{
  "nbformat": 4,
  "nbformat_minor": 0,
  "metadata": {
    "colab": {
      "name": "OFDM_channel_estimator_cleaned.ipynb",
      "provenance": [],
      "collapsed_sections": []
    },
    "kernelspec": {
      "name": "python3",
      "display_name": "Python 3"
    },
    "language_info": {
      "name": "python"
    }
  },
  "cells": [
    {
      "cell_type": "code",
      "metadata": {
        "colab": {
          "base_uri": "https://localhost:8080/"
        },
        "id": "4fqfRsk4dOg7",
        "outputId": "896e7ac1-2d8c-406b-dba7-29f112ffbd37"
      },
      "source": [
        "!pip install bitarray"
      ],
      "execution_count": 1,
      "outputs": [
        {
          "output_type": "stream",
          "text": [
            "Collecting bitarray\n",
            "\u001b[?25l  Downloading https://files.pythonhosted.org/packages/b1/98/2bb5f77098a3c8f068c2415ad1532ec9df65a019d0604b4d174541382136/bitarray-2.1.0.tar.gz (71kB)\n",
            "\r\u001b[K     |████▋                           | 10kB 15.1MB/s eta 0:00:01\r\u001b[K     |█████████▏                      | 20kB 15.8MB/s eta 0:00:01\r\u001b[K     |█████████████▉                  | 30kB 10.4MB/s eta 0:00:01\r\u001b[K     |██████████████████▍             | 40kB 9.3MB/s eta 0:00:01\r\u001b[K     |███████████████████████         | 51kB 5.1MB/s eta 0:00:01\r\u001b[K     |███████████████████████████▋    | 61kB 5.9MB/s eta 0:00:01\r\u001b[K     |████████████████████████████████| 71kB 3.5MB/s \n",
            "\u001b[?25hBuilding wheels for collected packages: bitarray\n",
            "  Building wheel for bitarray (setup.py) ... \u001b[?25l\u001b[?25hdone\n",
            "  Created wheel for bitarray: filename=bitarray-2.1.0-cp37-cp37m-linux_x86_64.whl size=147704 sha256=4315d0e746cc692368b5b02c0359490517090d90d3813850035ed8d4b15acf9d\n",
            "  Stored in directory: /root/.cache/pip/wheels/35/50/3a/d5c4da0c9ab92707530efe6da2f908c89946c16c1da918b503\n",
            "Successfully built bitarray\n",
            "Installing collected packages: bitarray\n",
            "Successfully installed bitarray-2.1.0\n"
          ],
          "name": "stdout"
        }
      ]
    },
    {
      "cell_type": "code",
      "metadata": {
        "id": "hUuSlX8ze2TU"
      },
      "source": [
        "import numpy as np \n",
        "import csv \n",
        "import pandas as pd\n",
        "from scipy.linalg import dft\n",
        "from scipy import fft\n",
        "from scipy.fft import ifft\n",
        "import matplotlib.pyplot as plt \n",
        "import bitarray\n",
        "import pdb\n",
        "from scipy.io.wavfile import write # For writing to a .wav file\n",
        "from scipy.io.wavfile import read # For reading from a .wav file to an np array.\n",
        "from scipy import signal # Module for generating chirp."
      ],
      "execution_count": 2,
      "outputs": []
    },
    {
      "cell_type": "code",
      "metadata": {
        "id": "WI_txZxVe4Hc"
      },
      "source": [
        "# Define constants\n",
        "N = 1024 #OFDM symbol length\n",
        "L = 32 #Cyclic prefix length\n",
        "n = 50 # Number of repetitions of OFDM symbol for transmission\n",
        "sample_rate = 44100 # Sample rate is 44.1 kHz"
      ],
      "execution_count": 3,
      "outputs": []
    },
    {
      "cell_type": "code",
      "metadata": {
        "id": "MtGGpzvze6Uo"
      },
      "source": [
        "# Useful helper functions for converting between np arrays and wav files.\n",
        "def convert_array_to_wav(array, sample_rate):\n",
        "    # Convert the normalized array to a wav file.\n",
        "    write(\"output.wav\", sample_rate, array)\n",
        "\n",
        "def convert_wav_to_array(wav_filename):\n",
        "    rate, array = read(wav_filename)\n",
        "\n",
        "    return array"
      ],
      "execution_count": 4,
      "outputs": []
    },
    {
      "cell_type": "code",
      "metadata": {
        "id": "Bq7sMQMHe8ZX"
      },
      "source": [
        "# Functions mainly for use in transmitter.\n",
        "\n",
        "# Generate chirp signal\n",
        "def generateChirp(startFrequency, endFrequency, sample_rate, duration):\n",
        "    number_of_samples = int(sample_rate*duration)\n",
        "    t = list(range(0, number_of_samples+1))\n",
        "    t = np.array(t)\n",
        "    t = t / sample_rate\n",
        "    chirp = signal.chirp(t, startFrequency, duration, endFrequency, method='logarithmic')\n",
        "\n",
        "    return chirp\n",
        "\n",
        "# Matched filter returns index of highest correlation between a noisy signal and the desired signal.\n",
        "def matched_filter(noisy_signal, desired_signal):\n",
        "    desired_signal = desired_signal.flatten()\n",
        "    correlation = signal.correlate(noisy_signal, desired_signal, mode='same')\n",
        "\n",
        "    max_correlation = np.amax(correlation)\n",
        "    max_correlation_index = np.argmax(correlation)\n",
        "\n",
        "    return max_correlation_index\n",
        "\n",
        "def find_chirp_start_index(chirp_signal):\n",
        "    \"\"\"Uses matched filter to find index of start of chirp\"\"\"\n",
        "    chirp_length = len(chirp_signal)\n",
        "    chirp_start_index = matched_filter(chirp_signal, chirp_signal)\n",
        "    assert chirp_start_index == int(chirp_length/2), \"Chirp start index does not coincide with half of chirp length\"\n",
        "    return chirp_start_index\n",
        "\n",
        "# Need to fix this, block size gives error with large integer\n",
        "def generate_random_indices(block_size):\n",
        "    \"\"\"Generates numpy array of random indices with seed '2021' such that random array is predictable\"\"\"\n",
        "    seed = 2021 # Standardise random number generator seed as 2021, which I arbitrarily selected\n",
        "    rng = np.random.default_rng(seed) # Random number generator with specified seed\n",
        "    random_constellation_indices = rng.integers(low=0, high=4, size=block_size) # Generate 511 random indices for the QPSK constellation\n",
        "\n",
        "    return random_constellation_indices\n",
        "\n",
        "# Generate an array of 511 random constellation symbols with '0' as the first element.\n",
        "# 'A' is the radius of the QPSK constellation circle.\n",
        "\n",
        "def generate_random_sequence(N, QPSK=True, A=10):\n",
        "    \"\"\"Takes the size of OFDM symbol length, assuming QPSK encoding and returns array of random constellation symbols\"\"\"\n",
        "    block_size = int(N / 2 - 1) # Set size of block to OFDM symbol length divided by 2 for mirroring and subtract 1 to have zeroed first entry\n",
        "    mapping = A/np.sqrt(2) * np.array([(1+1j), (-1+1j), (-1-1j), (1-1j)]) # Define the mapping of indices to QPSK constellation\n",
        "    \n",
        "    random_constellation_indices = generate_random_indices(block_size)\n",
        "    random_sequence = np.array([0]) # Set up first element to be constellation symbol corresponding to zero\n",
        "    for index in random_constellation_indices:\n",
        "        random_sequence = np.append(random_sequence, mapping[index])\n",
        "\n",
        "    return random_sequence\n",
        "  \n",
        "# Takes an array and appends the flipped/reversed complex-conjugate array. The two concatenated arrays both begin with a '0'.\n",
        "def generate_symmetric_sequence(sequence):\n",
        "    \"\"\"Takes a array sequence and appends a reversed form on the end\"\"\"\n",
        "    reversed_sequence = np.conj(np.append(np.array([0]), np.flip(sequence[1:int(N/2)]))) # Reverse the order of the input array, and take the complex conjugate.\n",
        "    symmetric_sequence = np.append(sequence, reversed_sequence) # Append the flipped array to the original array.\n",
        "    return symmetric_sequence\n",
        "\n",
        "# Take N-point iDFT of an array, to be used carefully! This function should probably be named differently!!!\n",
        "def apply_inverse_dft(sequence):\n",
        "    \"\"\"Takes a N-point inverse discrete Fourier transform of a sequence, who's output is purely real\"\"\"\n",
        "    OFDM_TX_noCP = ifft(sequence) # Take inverse discrete Fourier transform\n",
        "    assert np.amax(OFDM_TX_noCP.imag) < 1, \"Input sequence in frequencey domain is not symmetric so time domain is not purely real\"\n",
        "\n",
        "    OFDM_TX_noCP = OFDM_TX_noCP.real # Consider only real part given that it is supposed to be real\n",
        "    return OFDM_TX_noCP\n",
        "\n",
        "# Add cyclic prefix\n",
        "def add_cyclic_prefix(sequence, N, L):\n",
        "    \"\"\"Takes sequence, the symbol length and cyclic prefix length L to insert cyclic prefix\"\"\"\n",
        "    cyclic_prefix = sequence[-L:] # Generate cyclic prefix by taking last values\n",
        "    OFDM_TX_withCP = np.append(cyclic_prefix, sequence) # Create single OFDM symbol by joining cyclic prefix and sequence\n",
        "    return OFDM_TX_withCP\n",
        "\n",
        "# Create the array to be transmitted by repeating the above OFDM symbol some number of times. (And including any elements needed for synchronization).\n",
        "def generate_repeated_signal(OFDM_TX_withCP, n):\n",
        "    \"\"\"Generate signal to be transmitted by repeating the OFDM symbol n times\"\"\"\n",
        "    repeated_signal = np.array([]) # Repeats OFDM symbol n times\n",
        "    for i in range(0,n):\n",
        "        repeated_signal = np.append(repeated_signal, OFDM_TX_withCP)\n",
        "    return repeated_signal\n",
        "\n",
        "def generate_signal_for_estimation(N, n, use_chirp=True):\n",
        "    \"\"\"The 'master' function that takes the block length N\"\"\"\n",
        "    \n",
        "    # (In time domain)\n",
        "    if use_chirp:\n",
        "        chirp_signal = generateChirp(100, 15000, sample_rate, 0.1) # Generate chirp signal for start of transmission\n",
        "    \n",
        "    # (In frequency domain)\n",
        "    random_sequence = generate_random_sequence(N) # Generate random but predictable seqeunce which (length N/2)\n",
        "    symmetric_sequence = generate_symmetric_sequence(random_sequence) # Create symmetric sequence to make transmitted OFDM symbol real (length N)\n",
        "\n",
        "    # (In time domain)\n",
        "    OFDM_TX_noCP = apply_inverse_dft(symmetric_sequence) # Apply the inverse DFT to generate time_domain OFDM symbol without cyclic prefix (length N)\n",
        "    OFDM_TX_withCP = add_cyclic_prefix(OFDM_TX_noCP, N, L) # Insert cyclic prefix to create OFDM symbol (length N+L)\n",
        "    repeated_signal = generate_repeated_signal(OFDM_TX_withCP, n) # Repeat OFDM symbol n times (length n*(N+L))\n",
        "    transmitted_signal = np.append(chirp_signal, repeated_signal) # Create transmitted signal by inserting chirp at start (length chirp_length n*(N+L))\n",
        "    \n",
        "    convert_array_to_wav(transmitted_signal, sample_rate)\n",
        "\n",
        "    return transmitted_signal\n"
      ],
      "execution_count": 34,
      "outputs": []
    },
    {
      "cell_type": "code",
      "metadata": {
        "id": "YCJdiNoigUFq"
      },
      "source": [
        "# Functions mainly for use in receiver.\n",
        "\n",
        "# Calculates the delay present at the receiver in terms of indices in the arrays\n",
        "# by applying the matched filter to the received signal.\n",
        "\n",
        "def calculate_delay_at_receiver(received_signal, chirp_signal):\n",
        "    \"\"\"Takes the received signal and the chirp, then calculates the 'time' delay at the receiver\"\"\"\n",
        "    correlation_max_index = matched_filter(received_signal, chirp_signal) # Find start of actual information being transmitted\n",
        "    chirp_start_index = find_chirp_start_index(chirp_signal) # Find start of chirp\n",
        "    delay = correlation_max_index - chirp_start_index # Find difference between the two as the delay\n",
        "\n",
        "    return delay\n",
        "\n",
        "# Shift the received array left by the amount of the delay. (A certain number of elements) Also cut the array where we expect the transmitted sequency to end.\n",
        "def calculate_received_signal_without_delay(received_signal, chirp_signal):\n",
        "    \"\"\"Takes the received signal and the chirp, to remove the delay and perform synchronisation\"\"\"\n",
        "    delay = calculate_delay_at_receiver(received_signal, chirp_signal) # Calculate delay\n",
        "\n",
        "    chirp_length = len(chirp_signal) # Find length of chirp signal\n",
        "    received_signal_without_delay = received_signal[delay+chirp_length:delay+chirp_length+(n*(N+L))] # Using calculated delay, remove the delay\n",
        "\n",
        "    return received_signal_without_delay\n",
        "\n",
        "# Remove cyclic prefix\n",
        "def removeCP(signal):\n",
        "    \"\"\"Remove the cyclic prefix of a signal\"\"\"\n",
        "    # to do: adjust for the whole signal, not just one ofdm block\n",
        "    return signal[L:(L+N)]\n",
        "\n",
        "def DFT(OFDM_RX):\n",
        "    \"\"\"Compute the discrete Fourier transform of the received OFDM symbol\"\"\"\n",
        "    return fft(OFDM_RX)\n",
        "\n",
        "def compute_average(two_dimensional_array, N, n):\n",
        "    \"\"\"\n",
        "    Computes the average of a two-dimensional array, element-wise.\n",
        "    Needs the length of the 'block' N and the number of blocks n.\n",
        "    For example, inputting np.array([[0,1,2],[2,3,4]]) would return np.array([1,2,3]).\n",
        "    Note, we call each individual array a 'block' so we are just averaging over them.\n",
        "    (There should be a nicer 'numpyier' 'vectorised' way of doing this better, try later)\n",
        "    \"\"\"\n",
        "    sum_of_blocks = np.zeros(N) # Initialise as zeros array for summing each block of two-dimensional array\n",
        "    for block in two_dimensional_array:\n",
        "        sum_of_blocks = sum_of_blocks + block # Compute sum of each block all together\n",
        "    average_block = sum_of_blocks / n # Take average by dividing by number of blocks\n",
        "    return average_block\n",
        "\n",
        "def compute_average_symbol(received_signal):\n",
        "    \"\"\"Takes the received signal without delay, computes the average received OFDM symbol without cyclic prefix, then takes DFT to return in frequency domain\"\"\"\n",
        "    # (In time domain)\n",
        "    received_signal = np.split(received_signal, n) # Split up received signal into blocks\n",
        "    OFDM_RX_noCP = [removeCP(received_block) for received_block in received_signal] # Remove cyclic prefix\n",
        "    OFDM_RX_noCP_average = compute_average(OFDM_RX_noCP, N, n) # Computes the average received block without cyclic prefix\n",
        "    \n",
        "    # Note that beyond this point, we are dealing with an 'averaged' block in the time domain because of previous step\n",
        "    \n",
        "    # (In frequency domain)\n",
        "    OFDM_RX_demod_average = DFT(OFDM_RX_noCP_average) # Compute DFT of received signal without cyclic prefix\n",
        "    \n",
        "    return OFDM_RX_demod_average\n",
        "\n",
        "def estimate_channel_frequency_response(OFDM_RX_demod_average, transmitted_block): #transmitted block is known from before\n",
        "    \"\"\"\n",
        "    Takes the demodulated received OFDM sequence and the initially transmitted block.\n",
        "    Estimates the channel frequency response by division.\n",
        "    \"\"\"\n",
        "    \n",
        "    # (In frequency domain)\n",
        "    # Some checks which can be removed later\n",
        "    #print(np.shape(OFDM_RX_demod_average[1:int(N/2)])) # Only take first postiive 'real' half and ignore zero at start\n",
        "    #print(np.shape(transmitted_block[1:])) # Ignore first value which is zero to avoid dividing by zero\n",
        "\n",
        "    H_est = OFDM_RX_demod_average[1:int(N/2)] / transmitted_block[1:] # divide second half of averaged demodulated block by the transmitted pilot values\n",
        "    #print(np.shape(H_est))\n",
        "    #H_est_abs = abs(H_est) # Compute amplitude of frequency response\n",
        "    #H_est_phase = np.angle(H_est) # Compute amplitude of frequency response\n",
        "    return H_est\n",
        "\n",
        "\n",
        "def compute_channel_impulse_response(H_est):\n",
        "    # (In frequency domain)\n",
        "    H_est_symmetric = generate_symmetric_sequence(H_est)\n",
        "    \n",
        "    # (In time domain)\n",
        "    h_time = apply_inverse_dft(H_est_symmetric)\n",
        "    return h_time\n",
        "\n",
        "def estimate_channel(input_audio_filename):\n",
        "    \"\"\"\n",
        "    'Master' function to estimate the channel impulse response in time domain\n",
        "    \"\"\"\n",
        "    # (In time domain)\n",
        "    received_signal = convert_wav_to_array(input_audio_filename) # Convert received .wav file to an np array.\n",
        "    #seed = 2021\n",
        "    #rng = np.random.default_rng(seed)\n",
        "    #received_signal = np.append(rng.random(100), received_signal)\n",
        "    chirp_signal = generateChirp(100, 15000, sample_rate, 0.1)\n",
        "    received_signal_without_delay = calculate_received_signal_without_delay(received_signal, chirp_signal) # Perform synchronisation by removing time delay\n",
        "\n",
        "    # (In frequency domain)\n",
        "    OFDM_RX_demod_average = compute_average_symbol(received_signal_without_delay) # Compute the average demodulated OFDM sequence\n",
        "    H_est = estimate_channel_frequency_response(OFDM_RX_demod_average, generate_random_sequence(N)) # Be careful that random sequence is the same from earlier\n",
        "\n",
        "    # (In time domain)\n",
        "    h_time = compute_channel_impulse_response(H_est) #\n",
        "    return h_time, H_est\n",
        "\n"
      ],
      "execution_count": 35,
      "outputs": []
    },
    {
      "cell_type": "code",
      "metadata": {
        "id": "OZlNkv8khUvq"
      },
      "source": [
        "# Transmitter\n",
        "\n",
        "# Create the transmitted OFDM_signal and output to .wav file\n",
        "transmitted_signal = generate_signal_for_estimation(N, n)"
      ],
      "execution_count": 36,
      "outputs": []
    },
    {
      "cell_type": "code",
      "metadata": {
        "colab": {
          "base_uri": "https://localhost:8080/",
          "height": 610
        },
        "id": "dEWF2GfAiqn0",
        "outputId": "7ca319c5-361e-4bdd-9c75-c45bb14fcf1f"
      },
      "source": [
        "# Receiver\n",
        "\n",
        "# Estimate channel from input audio file.\n",
        "h_est, H_est = estimate_channel(\"input.wav\")\n",
        "\n",
        "\n",
        "t = list(range(1, len(h_est)+1))\n",
        "times = np.array(t)\n",
        "times = times / sample_rate\n",
        "x = times\n",
        "fig, ax = plt.subplots()\n",
        "plt.title(\"Estimated Channel Impulse Response\")\n",
        "plt.xlabel(\"Time (s)\")\n",
        "plt.ylabel(\"Impulse Response Magnitude\")\n",
        "ax.plot(x, h_est)\n",
        "fig.show()\n",
        "\n",
        "f = list(range(1, len(H_est)+1))\n",
        "frequencies = np.array(f)\n",
        "frequencies = (sample_rate / N) * frequencies\n",
        "x = frequencies\n",
        "fig, ax = plt.subplots()\n",
        "plt.title('Magnitude of DFT of Channel Impulse Response estimated using repeated random OFDM symbols')\n",
        "plt.xlabel('Frequency (Hz)')\n",
        "plt.ylabel('Relative Amplitude')\n",
        "plt.yscale('log')\n",
        "ax.plot(x, abs(H_est))\n",
        "fig.show()\n",
        "\n"
      ],
      "execution_count": 37,
      "outputs": [
        {
          "output_type": "stream",
          "text": [
            "/usr/local/lib/python3.7/dist-packages/ipykernel_launcher.py:32: DeprecationWarning: Using scipy.fft as a function is deprecated and will be removed in SciPy 1.5.0, use scipy.fft.fft instead.\n"
          ],
          "name": "stderr"
        },
        {
          "output_type": "display_data",
          "data": {
            "image/png": "[encoded data removed]",
            "text/plain": [
              "<Figure size 432x288 with 1 Axes>"
            ]
          },
          "metadata": {
            "tags": [],
            "needs_background": "light"
          }
        },
        {
          "output_type": "display_data",
          "data": {
            "image/png": "[encoded data removed]",
            "text/plain": [
              "<Figure size 432x288 with 1 Axes>"
            ]
          },
          "metadata": {
            "tags": [],
            "needs_background": "light"
          }
        }
      ]
    },
    {
      "cell_type": "code",
      "metadata": {
        "id": "iNO-gX4snWNv"
      },
      "source": [
        "# TODO: Implement simulated test using the channel impulse response from the weekend channel."
      ],
      "execution_count": null,
      "outputs": []
    }
  ]
}